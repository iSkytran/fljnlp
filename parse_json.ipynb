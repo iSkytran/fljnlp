{
 "cells": [
  {
   "attachments": {},
   "cell_type": "markdown",
   "metadata": {},
   "source": [
    "# Convert JSON to Plain Text\n",
    "\n",
    "`snscrape` gives data in a lined JSON format. The JSON needs to be parsed to remove the extraneous data leaving just the text to do analysis on. Since these text potentially has new lines in it, we must escape the necessary characters before saving."
   ]
  },
  {
   "cell_type": "code",
   "execution_count": 12,
   "metadata": {},
   "outputs": [],
   "source": [
    "import json\n",
    "import os\n",
    "from dateutil import parser\n",
    "from datetime import datetime, timezone\n",
    "\n",
    "\n",
    "def process(in_file: str):\n",
    "    basename = os.path.splitext(os.path.basename(in_file))[0]\n",
    "    out_files = [\n",
    "        f\"./data/{basename}_to_2020.csv\",\n",
    "        f\"./data/{basename}_to_2022.csv\",\n",
    "        f\"./data/{basename}_to_present.csv\",\n",
    "    ]\n",
    "    for file in out_files:\n",
    "        if os.path.isfile(file):\n",
    "            os.remove(file)\n",
    "    with open(in_file) as file:\n",
    "        with (\n",
    "            open(out_files[0], \"x\") as file_2020,\n",
    "            open(out_files[1], \"x\") as file_2022,\n",
    "            open(out_files[2], \"x\") as file_present,\n",
    "        ):\n",
    "            for i, line in enumerate(file):\n",
    "                data = json.loads(line)\n",
    "                timestamp = parser.parse(data[\"date\"])\n",
    "\n",
    "                if timestamp < datetime(2020, 1, 1, tzinfo=timezone.utc):\n",
    "                    out_file = file_2020\n",
    "                elif timestamp < datetime(2022, 1, 1, tzinfo=timezone.utc):\n",
    "                    out_file = file_2022\n",
    "                else:\n",
    "                    out_file = file_present\n",
    "\n",
    "                out_file.write(\n",
    "                    data[\"renderedContent\"].encode(\"unicode_escape\").decode(\"utf-8\")\n",
    "                    + \"\\n\"\n",
    "                )"
   ]
  },
  {
   "cell_type": "code",
   "execution_count": null,
   "metadata": {},
   "outputs": [],
   "source": [
    "process(\"./data/twitter_ainu_since_2018.jsonl\")\n",
    "process(\"./data/twitter_burakumin_since_2018.jsonl\")\n",
    "process(\"./data/twitter_zainichi_since_2018.jsonl\")"
   ]
  },
  {
   "attachments": {},
   "cell_type": "markdown",
   "metadata": {},
   "source": [
    "# Reading the Plain Text\n",
    "\n",
    "The following is an example of how to load the escaped text file."
   ]
  },
  {
   "cell_type": "code",
   "execution_count": null,
   "metadata": {},
   "outputs": [],
   "source": [
    "data = []\n",
    "with open('./data/out.csv') as file:\n",
    "    for line in file:\n",
    "        line = line.strip()\n",
    "        data.append(line.encode(\"utf-8\").decode(\"unicode_escape\"))"
   ]
  }
 ],
 "metadata": {
  "kernelspec": {
   "display_name": "fljnlp",
   "language": "python",
   "name": "python3"
  },
  "language_info": {
   "codemirror_mode": {
    "name": "ipython",
    "version": 3
   },
   "file_extension": ".py",
   "mimetype": "text/x-python",
   "name": "python",
   "nbconvert_exporter": "python",
   "pygments_lexer": "ipython3",
   "version": "3.10.9"
  },
  "orig_nbformat": 4,
  "vscode": {
   "interpreter": {
    "hash": "f9db9da3f3f442f851959649fa18d49d29828688f852a05f818bc88156995629"
   }
  }
 },
 "nbformat": 4,
 "nbformat_minor": 2
}
