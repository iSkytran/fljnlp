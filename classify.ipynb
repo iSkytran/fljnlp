{
 "cells": [
  {
   "attachments": {},
   "cell_type": "markdown",
   "metadata": {},
   "source": [
    "# Imports"
   ]
  },
  {
   "cell_type": "code",
   "execution_count": 2,
   "metadata": {},
   "outputs": [],
   "source": [
    "import torch\n",
    "from transformers import AutoTokenizer, AutoModelForSequenceClassification, TextClassificationPipeline"
   ]
  },
  {
   "attachments": {},
   "cell_type": "markdown",
   "metadata": {},
   "source": [
    "# Load Model"
   ]
  },
  {
   "cell_type": "code",
   "execution_count": 9,
   "metadata": {},
   "outputs": [],
   "source": [
    "tokenizer = AutoTokenizer.from_pretrained(\"cl-tohoku/bert-base-japanese\")\n",
    "model = AutoModelForSequenceClassification.from_pretrained(\"./models/bert_toxicity\")\n",
    "device = torch.device(\"cuda:0\" if torch.cuda.is_available() else \"cpu\")\n",
    "pipe = TextClassificationPipeline(model=model, tokenizer=tokenizer, device=device)"
   ]
  },
  {
   "attachments": {},
   "cell_type": "markdown",
   "metadata": {},
   "source": [
    "# Load Unclassified Data/Classify Function"
   ]
  },
  {
   "cell_type": "code",
   "execution_count": 10,
   "metadata": {},
   "outputs": [],
   "source": [
    "def classify(path: str, pipe: TextClassificationPipeline) -> tuple:\n",
    "    data = []\n",
    "    with open(path) as file:\n",
    "        for line in file:\n",
    "            line = line.strip()\n",
    "            data.append(line.encode(\"utf-8\").decode(\"unicode_escape\"))\n",
    "    results = pipe(data)\n",
    "    num_toxic = sum(\"LABEL_1\" == result[\"label\"] for result in results)\n",
    "    num_nontoxic = len(results) - num_toxic\n",
    "    return num_nontoxic, num_toxic"
   ]
  },
  {
   "attachments": {},
   "cell_type": "markdown",
   "metadata": {},
   "source": [
    "# Show Results for Each Dataset"
   ]
  },
  {
   "cell_type": "code",
   "execution_count": 13,
   "metadata": {},
   "outputs": [
    {
     "name": "stdout",
     "output_type": "stream",
     "text": [
      "Dataset: data/twitter_ainu_since_2018_to_2020.csv, Number Non-Toxic: 23066, Number Toxic: 12570\n",
      "Dataset: data/twitter_ainu_since_2018_to_2022.csv, Number Non-Toxic: 21147, Number Toxic: 9066\n",
      "Dataset: data/twitter_ainu_since_2018_to_present.csv, Number Non-Toxic: 21552, Number Toxic: 10650\n",
      "Dataset: data/twitter_burakumin_since_2018_to_2020.csv, Number Non-Toxic: 46, Number Toxic: 28\n",
      "Dataset: data/twitter_burakumin_since_2018_to_2022.csv, Number Non-Toxic: 23, Number Toxic: 10\n",
      "Dataset: data/twitter_burakumin_since_2018_to_present.csv, Number Non-Toxic: 13, Number Toxic: 8\n",
      "Dataset: data/twitter_zainichi_since_2018_to_2020.csv, Number Non-Toxic: 170483, Number Toxic: 544002\n",
      "Dataset: data/twitter_zainichi_since_2018_to_2022.csv, Number Non-Toxic: 154670, Number Toxic: 479918\n",
      "Dataset: data/twitter_zainichi_since_2018_to_present.csv, Number Non-Toxic: 114666, Number Toxic: 346844\n"
     ]
    }
   ],
   "source": [
    "datasets = [\n",
    "    \"data/twitter_ainu_since_2018_to_2020.csv\",\n",
    "    \"data/twitter_ainu_since_2018_to_2022.csv\",\n",
    "    \"data/twitter_ainu_since_2018_to_present.csv\",\n",
    "    \"data/twitter_burakumin_since_2018_to_2020.csv\",\n",
    "    \"data/twitter_burakumin_since_2018_to_2022.csv\",\n",
    "    \"data/twitter_burakumin_since_2018_to_present.csv\",\n",
    "    \"data/twitter_zainichi_since_2018_to_2020.csv\",\n",
    "    \"data/twitter_zainichi_since_2018_to_2022.csv\",\n",
    "    \"data/twitter_zainichi_since_2018_to_present.csv\"\n",
    "]\n",
    "for dataset in datasets:\n",
    "    num_nontoxic, num_toxic = classify(dataset, pipe)\n",
    "    print(f\"Dataset: {dataset}, Number Non-Toxic: {num_nontoxic}, Number Toxic: {num_toxic}\")"
   ]
  }
 ],
 "metadata": {
  "kernelspec": {
   "display_name": "fljnlp",
   "language": "python",
   "name": "python3"
  },
  "language_info": {
   "codemirror_mode": {
    "name": "ipython",
    "version": 3
   },
   "file_extension": ".py",
   "mimetype": "text/x-python",
   "name": "python",
   "nbconvert_exporter": "python",
   "pygments_lexer": "ipython3",
   "version": "3.10.10"
  },
  "orig_nbformat": 4,
  "vscode": {
   "interpreter": {
    "hash": "f9db9da3f3f442f851959649fa18d49d29828688f852a05f818bc88156995629"
   }
  }
 },
 "nbformat": 4,
 "nbformat_minor": 2
}
