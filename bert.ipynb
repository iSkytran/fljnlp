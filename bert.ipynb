{
 "cells": [
  {
   "attachments": {},
   "cell_type": "markdown",
   "metadata": {},
   "source": [
    "# Imports"
   ]
  },
  {
   "cell_type": "code",
   "execution_count": 17,
   "metadata": {},
   "outputs": [],
   "source": [
    "import numpy as np\n",
    "import pandas as pd\n",
    "import torch\n",
    "\n",
    "from sklearn.metrics import accuracy_score, precision_score, recall_score, f1_score\n",
    "from sklearn.model_selection import train_test_split\n",
    "from transformers import AutoTokenizer, AutoModelForSequenceClassification, Trainer, TrainingArguments, EvalPrediction\n",
    "from torch.utils.data import Dataset"
   ]
  },
  {
   "attachments": {},
   "cell_type": "markdown",
   "metadata": {},
   "source": [
    "# Data Preprocessing"
   ]
  },
  {
   "cell_type": "code",
   "execution_count": 18,
   "metadata": {},
   "outputs": [],
   "source": [
    "df = pd.read_csv(\"./data/japanese_toxicity_dataset.csv\")\n",
    "labels = df[\"Toxic/Not Toxic\"].replace({\"Not Toxic\": 0, \"Toxic\": 1}).to_list()\n",
    "text = df[\"Text\"].to_list()\n",
    "text_train, text_test, labels_train, labels_test = train_test_split(text, labels, test_size=0.2, stratify=labels)"
   ]
  },
  {
   "attachments": {},
   "cell_type": "markdown",
   "metadata": {},
   "source": [
    "# Tokenize Data"
   ]
  },
  {
   "cell_type": "code",
   "execution_count": 19,
   "metadata": {},
   "outputs": [],
   "source": [
    "tokenizer = AutoTokenizer.from_pretrained(\"cl-tohoku/bert-base-japanese\")\n",
    "text_train = tokenizer(text_train, padding=\"max_length\", truncation=True)\n",
    "text_test = tokenizer(text_test, padding=\"max_length\", truncation=True)"
   ]
  },
  {
   "attachments": {},
   "cell_type": "markdown",
   "metadata": {},
   "source": [
    "# Dataset Class"
   ]
  },
  {
   "cell_type": "code",
   "execution_count": 20,
   "metadata": {},
   "outputs": [],
   "source": [
    "class ToxicityDataset(Dataset):\n",
    "    def __init__(self, encodings: list, labels: list) -> None:\n",
    "        self.encodings: list = encodings\n",
    "        self.labels: list = labels\n",
    "\n",
    "    def __getitem__(self, index: int) -> dict:\n",
    "        item = {key: torch.tensor(val[index]) for key, val in self.encodings.items()}\n",
    "        item[\"label\"] = self.labels[index]\n",
    "        return item\n",
    "\n",
    "    def __len__(self) -> int:\n",
    "        return len(self.labels)"
   ]
  },
  {
   "attachments": {},
   "cell_type": "markdown",
   "metadata": {},
   "source": [
    "# Metrics Function"
   ]
  },
  {
   "cell_type": "code",
   "execution_count": 21,
   "metadata": {},
   "outputs": [],
   "source": [
    "def compute_metrics(eval_prediction: EvalPrediction) -> dict:\n",
    "    true = eval_prediction.label_ids\n",
    "    prediction = np.argmax(eval_prediction.predictions, axis=1)\n",
    "\n",
    "    metrics: dict = {}\n",
    "    metrics[\"accuracy\"] = accuracy_score(true, prediction)\n",
    "    metrics[\"precision\"] = precision_score(true, prediction)\n",
    "    metrics[\"recall\"] = recall_score(true, prediction)\n",
    "    metrics[\"f1\"] = f1_score(true, prediction)\n",
    "    return metrics"
   ]
  },
  {
   "attachments": {},
   "cell_type": "markdown",
   "metadata": {},
   "source": [
    "# Create/Train BERT Model"
   ]
  },
  {
   "cell_type": "code",
   "execution_count": 22,
   "metadata": {},
   "outputs": [
    {
     "name": "stderr",
     "output_type": "stream",
     "text": [
      "Some weights of the model checkpoint at cl-tohoku/bert-base-japanese were not used when initializing BertForSequenceClassification: ['cls.predictions.transform.dense.weight', 'cls.seq_relationship.weight', 'cls.seq_relationship.bias', 'cls.predictions.transform.LayerNorm.weight', 'cls.predictions.transform.LayerNorm.bias', 'cls.predictions.bias', 'cls.predictions.decoder.weight', 'cls.predictions.transform.dense.bias']\n",
      "- This IS expected if you are initializing BertForSequenceClassification from the checkpoint of a model trained on another task or with another architecture (e.g. initializing a BertForSequenceClassification model from a BertForPreTraining model).\n",
      "- This IS NOT expected if you are initializing BertForSequenceClassification from the checkpoint of a model that you expect to be exactly identical (initializing a BertForSequenceClassification model from a BertForSequenceClassification model).\n",
      "Some weights of BertForSequenceClassification were not initialized from the model checkpoint at cl-tohoku/bert-base-japanese and are newly initialized: ['classifier.weight', 'classifier.bias']\n",
      "You should probably TRAIN this model on a down-stream task to be able to use it for predictions and inference.\n",
      "/home/entran/.virtualenvs/fljnlp/lib/python3.10/site-packages/transformers/optimization.py:391: FutureWarning: This implementation of AdamW is deprecated and will be removed in a future version. Use the PyTorch implementation torch.optim.AdamW instead, or set `no_deprecation_warning=True` to disable this warning\n",
      "  warnings.warn(\n"
     ]
    },
    {
     "data": {
      "application/vnd.jupyter.widget-view+json": {
       "model_id": "f935ebf02be44b7fb10b2d0f43c44d47",
       "version_major": 2,
       "version_minor": 0
      },
      "text/plain": [
       "  0%|          | 0/1000 [00:00<?, ?it/s]"
      ]
     },
     "metadata": {},
     "output_type": "display_data"
    },
    {
     "data": {
      "application/vnd.jupyter.widget-view+json": {
       "model_id": "b684026103d5486c8db47ecba8c06caa",
       "version_major": 2,
       "version_minor": 0
      },
      "text/plain": [
       "  0%|          | 0/25 [00:00<?, ?it/s]"
      ]
     },
     "metadata": {},
     "output_type": "display_data"
    },
    {
     "name": "stdout",
     "output_type": "stream",
     "text": [
      "{'eval_loss': 0.08609665185213089, 'eval_accuracy': 0.96, 'eval_precision': 0.9693877551020408, 'eval_recall': 0.95, 'eval_f1': 0.9595959595959594, 'eval_runtime': 97.8116, 'eval_samples_per_second': 2.045, 'eval_steps_per_second': 0.256, 'epoch': 1.0}\n"
     ]
    },
    {
     "data": {
      "application/vnd.jupyter.widget-view+json": {
       "model_id": "de394f0f65204064a370575b6673d692",
       "version_major": 2,
       "version_minor": 0
      },
      "text/plain": [
       "  0%|          | 0/25 [00:00<?, ?it/s]"
      ]
     },
     "metadata": {},
     "output_type": "display_data"
    },
    {
     "name": "stdout",
     "output_type": "stream",
     "text": [
      "{'eval_loss': 0.13430924713611603, 'eval_accuracy': 0.97, 'eval_precision': 0.9433962264150944, 'eval_recall': 1.0, 'eval_f1': 0.970873786407767, 'eval_runtime': 97.6443, 'eval_samples_per_second': 2.048, 'eval_steps_per_second': 0.256, 'epoch': 2.0}\n"
     ]
    },
    {
     "data": {
      "application/vnd.jupyter.widget-view+json": {
       "model_id": "2f80662e8b9b40a08e6c06785920afab",
       "version_major": 2,
       "version_minor": 0
      },
      "text/plain": [
       "  0%|          | 0/25 [00:00<?, ?it/s]"
      ]
     },
     "metadata": {},
     "output_type": "display_data"
    },
    {
     "name": "stdout",
     "output_type": "stream",
     "text": [
      "{'eval_loss': 0.1387237310409546, 'eval_accuracy': 0.975, 'eval_precision': 0.9523809523809523, 'eval_recall': 1.0, 'eval_f1': 0.975609756097561, 'eval_runtime': 97.6552, 'eval_samples_per_second': 2.048, 'eval_steps_per_second': 0.256, 'epoch': 3.0}\n"
     ]
    },
    {
     "data": {
      "application/vnd.jupyter.widget-view+json": {
       "model_id": "6bb675d8bee7467db02753be06d7bf56",
       "version_major": 2,
       "version_minor": 0
      },
      "text/plain": [
       "  0%|          | 0/25 [00:00<?, ?it/s]"
      ]
     },
     "metadata": {},
     "output_type": "display_data"
    },
    {
     "name": "stdout",
     "output_type": "stream",
     "text": [
      "{'eval_loss': 0.07674000412225723, 'eval_accuracy': 0.975, 'eval_precision': 0.9797979797979798, 'eval_recall': 0.97, 'eval_f1': 0.9748743718592964, 'eval_runtime': 97.8323, 'eval_samples_per_second': 2.044, 'eval_steps_per_second': 0.256, 'epoch': 4.0}\n",
      "{'loss': 0.088, 'learning_rate': 2.5e-05, 'epoch': 5.0}\n"
     ]
    },
    {
     "data": {
      "application/vnd.jupyter.widget-view+json": {
       "model_id": "833229e7dca94c2da2641b30a1fe3c7a",
       "version_major": 2,
       "version_minor": 0
      },
      "text/plain": [
       "  0%|          | 0/25 [00:00<?, ?it/s]"
      ]
     },
     "metadata": {},
     "output_type": "display_data"
    },
    {
     "name": "stdout",
     "output_type": "stream",
     "text": [
      "{'eval_loss': 0.1450657695531845, 'eval_accuracy': 0.98, 'eval_precision': 0.9615384615384616, 'eval_recall': 1.0, 'eval_f1': 0.9803921568627451, 'eval_runtime': 97.6885, 'eval_samples_per_second': 2.047, 'eval_steps_per_second': 0.256, 'epoch': 5.0}\n"
     ]
    },
    {
     "data": {
      "application/vnd.jupyter.widget-view+json": {
       "model_id": "5cb33a10218448a49df0e5f85b190e14",
       "version_major": 2,
       "version_minor": 0
      },
      "text/plain": [
       "  0%|          | 0/25 [00:00<?, ?it/s]"
      ]
     },
     "metadata": {},
     "output_type": "display_data"
    },
    {
     "name": "stdout",
     "output_type": "stream",
     "text": [
      "{'eval_loss': 0.1481538563966751, 'eval_accuracy': 0.98, 'eval_precision': 0.9615384615384616, 'eval_recall': 1.0, 'eval_f1': 0.9803921568627451, 'eval_runtime': 97.6983, 'eval_samples_per_second': 2.047, 'eval_steps_per_second': 0.256, 'epoch': 6.0}\n"
     ]
    },
    {
     "data": {
      "application/vnd.jupyter.widget-view+json": {
       "model_id": "1b4cd921c50d4a498f20bbd9401439fc",
       "version_major": 2,
       "version_minor": 0
      },
      "text/plain": [
       "  0%|          | 0/25 [00:00<?, ?it/s]"
      ]
     },
     "metadata": {},
     "output_type": "display_data"
    },
    {
     "name": "stdout",
     "output_type": "stream",
     "text": [
      "{'eval_loss': 0.14582760632038116, 'eval_accuracy': 0.98, 'eval_precision': 0.9615384615384616, 'eval_recall': 1.0, 'eval_f1': 0.9803921568627451, 'eval_runtime': 97.6111, 'eval_samples_per_second': 2.049, 'eval_steps_per_second': 0.256, 'epoch': 7.0}\n"
     ]
    },
    {
     "data": {
      "application/vnd.jupyter.widget-view+json": {
       "model_id": "1b4168e7e66343ef89898461df770d8b",
       "version_major": 2,
       "version_minor": 0
      },
      "text/plain": [
       "  0%|          | 0/25 [00:00<?, ?it/s]"
      ]
     },
     "metadata": {},
     "output_type": "display_data"
    },
    {
     "name": "stdout",
     "output_type": "stream",
     "text": [
      "{'eval_loss': 0.1466090977191925, 'eval_accuracy': 0.98, 'eval_precision': 0.9615384615384616, 'eval_recall': 1.0, 'eval_f1': 0.9803921568627451, 'eval_runtime': 97.6933, 'eval_samples_per_second': 2.047, 'eval_steps_per_second': 0.256, 'epoch': 8.0}\n"
     ]
    },
    {
     "data": {
      "application/vnd.jupyter.widget-view+json": {
       "model_id": "05d1e7a37d2f49629dabd5cbfc0d6eb5",
       "version_major": 2,
       "version_minor": 0
      },
      "text/plain": [
       "  0%|          | 0/25 [00:00<?, ?it/s]"
      ]
     },
     "metadata": {},
     "output_type": "display_data"
    },
    {
     "name": "stdout",
     "output_type": "stream",
     "text": [
      "{'eval_loss': 0.14837326109409332, 'eval_accuracy': 0.98, 'eval_precision': 0.9615384615384616, 'eval_recall': 1.0, 'eval_f1': 0.9803921568627451, 'eval_runtime': 97.6903, 'eval_samples_per_second': 2.047, 'eval_steps_per_second': 0.256, 'epoch': 9.0}\n",
      "{'loss': 0.0, 'learning_rate': 0.0, 'epoch': 10.0}\n"
     ]
    },
    {
     "data": {
      "application/vnd.jupyter.widget-view+json": {
       "model_id": "5e40873d9cc649c3a689ba1b75f131e6",
       "version_major": 2,
       "version_minor": 0
      },
      "text/plain": [
       "  0%|          | 0/25 [00:00<?, ?it/s]"
      ]
     },
     "metadata": {},
     "output_type": "display_data"
    },
    {
     "name": "stdout",
     "output_type": "stream",
     "text": [
      "{'eval_loss': 0.14896900951862335, 'eval_accuracy': 0.98, 'eval_precision': 0.9615384615384616, 'eval_recall': 1.0, 'eval_f1': 0.9803921568627451, 'eval_runtime': 97.7082, 'eval_samples_per_second': 2.047, 'eval_steps_per_second': 0.256, 'epoch': 10.0}\n",
      "{'train_runtime': 12957.8256, 'train_samples_per_second': 0.617, 'train_steps_per_second': 0.077, 'train_loss': 0.0440301960259676, 'epoch': 10.0}\n"
     ]
    },
    {
     "data": {
      "text/plain": [
       "TrainOutput(global_step=1000, training_loss=0.0440301960259676, metrics={'train_runtime': 12957.8256, 'train_samples_per_second': 0.617, 'train_steps_per_second': 0.077, 'train_loss': 0.0440301960259676, 'epoch': 10.0})"
      ]
     },
     "execution_count": 22,
     "metadata": {},
     "output_type": "execute_result"
    }
   ],
   "source": [
    "training_dataset = ToxicityDataset(text_train, labels_train)\n",
    "testing_dataset = ToxicityDataset(text_test, labels_test)\n",
    "model = AutoModelForSequenceClassification.from_pretrained(\"cl-tohoku/bert-base-japanese\", num_labels=2)\n",
    "training_args = TrainingArguments(\n",
    "    output_dir=\"./models\",\n",
    "    num_train_epochs=10,\n",
    "    evaluation_strategy=\"epoch\",\n",
    "    save_strategy=\"epoch\",\n",
    ")\n",
    "trainer = Trainer(\n",
    "    model=model,\n",
    "    args=training_args,\n",
    "    train_dataset=training_dataset,\n",
    "    eval_dataset=testing_dataset,\n",
    "    compute_metrics=compute_metrics,\n",
    ")\n",
    "trainer.train()"
   ]
  },
  {
   "attachments": {},
   "cell_type": "markdown",
   "metadata": {},
   "source": [
    "# Save Model"
   ]
  },
  {
   "cell_type": "code",
   "execution_count": null,
   "metadata": {},
   "outputs": [],
   "source": [
    "trainer.save_model(\"./models/bert_toxicity\")"
   ]
  }
 ],
 "metadata": {
  "kernelspec": {
   "display_name": "Python 3",
   "language": "python",
   "name": "python3"
  },
  "language_info": {
   "codemirror_mode": {
    "name": "ipython",
    "version": 3
   },
   "file_extension": ".py",
   "mimetype": "text/x-python",
   "name": "python",
   "nbconvert_exporter": "python",
   "pygments_lexer": "ipython3",
   "version": "3.10.10"
  },
  "orig_nbformat": 4,
  "vscode": {
   "interpreter": {
    "hash": "e7370f93d1d0cde622a1f8e1c04877d8463912d04d973331ad4851f04de6915a"
   }
  }
 },
 "nbformat": 4,
 "nbformat_minor": 2
}
