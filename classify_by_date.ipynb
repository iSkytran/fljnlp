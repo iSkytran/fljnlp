{
 "cells": [
  {
   "attachments": {},
   "cell_type": "markdown",
   "metadata": {},
   "source": [
    "# Classify by Date\n",
    "\n",
    "Classifies toxicity grouped by the date Tweeted."
   ]
  },
  {
   "attachments": {},
   "cell_type": "markdown",
   "metadata": {},
   "source": [
    "## Imports"
   ]
  },
  {
   "cell_type": "code",
   "execution_count": null,
   "metadata": {},
   "outputs": [],
   "source": [
    "import json\n",
    "import os\n",
    "from collections import defaultdict\n",
    "from dateutil import parser\n",
    "from datetime import date\n",
    "from transformers import AutoTokenizer, AutoModelForSequenceClassification, TextClassificationPipeline"
   ]
  },
  {
   "attachments": {},
   "cell_type": "markdown",
   "metadata": {},
   "source": [
    "## Load Model"
   ]
  },
  {
   "cell_type": "code",
   "execution_count": null,
   "metadata": {},
   "outputs": [],
   "source": [
    "tokenizer = AutoTokenizer.from_pretrained(\"cl-tohoku/bert-base-japanese\")\n",
    "model = AutoModelForSequenceClassification.from_pretrained(\"./models/bert_toxicity\")\n",
    "pipe = TextClassificationPipeline(model=model, tokenizer=tokenizer, device=0)"
   ]
  },
  {
   "attachments": {},
   "cell_type": "markdown",
   "metadata": {},
   "source": [
    "## Define Functions"
   ]
  },
  {
   "cell_type": "code",
   "execution_count": null,
   "metadata": {},
   "outputs": [],
   "source": [
    "def process(in_file: str) -> dict[date, list[str]]:\n",
    "    groups = defaultdict(list)\n",
    "    with open(in_file) as file:\n",
    "        for line in file:\n",
    "            data = json.loads(line)\n",
    "            timestamp = parser.parse(data[\"date\"]).date()\n",
    "            content = data[\"renderedContent\"]\n",
    "            groups[timestamp].append(content)\n",
    "    return groups \n",
    "\n",
    "def classify(groups: dict[date, str], output_path: str, pipe: TextClassificationPipeline) -> None:\n",
    "    if os.path.isfile(output_path):\n",
    "        os.remove(output_path)\n",
    "    with open(output_path, \"x\") as file:    \n",
    "        file.write(\"date,num_nontoxic,numtoxic\\n\")\n",
    "        for timestamp, texts in groups.items():\n",
    "            results = pipe(texts)\n",
    "            num_toxic = sum(\"LABEL_1\" == result[\"label\"] for result in results)\n",
    "            num_nontoxic = len(results) - num_toxic\n",
    "            file.write(f\"{timestamp},{num_nontoxic},{num_toxic}\\n\")"
   ]
  },
  {
   "attachments": {},
   "cell_type": "markdown",
   "metadata": {},
   "source": [
    "## Classify"
   ]
  },
  {
   "cell_type": "code",
   "execution_count": null,
   "metadata": {},
   "outputs": [],
   "source": [
    "groups = process(\"./data/twitter_ainu_since_2018.jsonl\")\n",
    "classify(groups, \"./data/twitter_ainu_since_2018_by_date.csv\", pipe)\n",
    "\n",
    "groups = process(\"./data/twitter_burakumin_since_2018.jsonl\")\n",
    "classify(groups, \"./data/twitter_burakumin_since_2018_by_date.csv\", pipe)\n",
    "\n",
    "groups = process(\"./data/twitter_zainichi_since_2018.jsonl\")\n",
    "classify(groups, \"./data/twitter_zainichi_since_2018_by_date.csv\", pipe)"
   ]
  }
 ],
 "metadata": {
  "kernelspec": {
   "display_name": "fljnlp",
   "language": "python",
   "name": "python3"
  },
  "language_info": {
   "name": "python",
   "version": "3.10.9"
  },
  "orig_nbformat": 4,
  "vscode": {
   "interpreter": {
    "hash": "f9db9da3f3f442f851959649fa18d49d29828688f852a05f818bc88156995629"
   }
  }
 },
 "nbformat": 4,
 "nbformat_minor": 2
}
