{
 "cells": [
  {
   "attachments": {},
   "cell_type": "markdown",
   "metadata": {},
   "source": [
    "# Scraping Data\n",
    "\n",
    "`snscrape` was used to pull data from social media sites."
   ]
  },
  {
   "cell_type": "code",
   "execution_count": 3,
   "metadata": {
    "vscode": {
     "languageId": "shellscript"
    }
   },
   "outputs": [],
   "source": [
    "!snscrape --jsonl --since 2018-01-01 twitter-search \"部落民 OR burakumin OR @a1s2d3f4g5h6j7k8l -filter:replies lang:ja\" > ../data/twitter_burakumin_since_2018.jsonl"
   ]
  }
 ],
 "metadata": {
  "kernelspec": {
   "display_name": "fljnlp",
   "language": "python",
   "name": "python3"
  },
  "language_info": {
   "codemirror_mode": {
    "name": "ipython",
    "version": 3
   },
   "file_extension": ".py",
   "mimetype": "text/x-python",
   "name": "python",
   "nbconvert_exporter": "python",
   "pygments_lexer": "ipython3",
   "version": "3.10.9"
  },
  "orig_nbformat": 4,
  "vscode": {
   "interpreter": {
    "hash": "f9db9da3f3f442f851959649fa18d49d29828688f852a05f818bc88156995629"
   }
  }
 },
 "nbformat": 4,
 "nbformat_minor": 2
}
