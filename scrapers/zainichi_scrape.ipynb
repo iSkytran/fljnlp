{
 "cells": [
  {
   "attachments": {},
   "cell_type": "markdown",
   "metadata": {},
   "source": [
    "# Scraping Data\n",
    "\n",
    "`snscrape` was used to pull data from social media sites."
   ]
  },
  {
   "cell_type": "code",
   "execution_count": 3,
   "metadata": {
    "vscode": {
     "languageId": "shellscript"
    }
   },
   "outputs": [
    {
     "name": "stdout",
     "output_type": "stream",
     "text": [
      "2023-04-01 02:56:58.412  WARNING  snscrape.modules.twitter  Tweet 1572477141048266752 contains an app icon medium key '4_1642015922918653953' on app 'android_app'/'jp.co.kodansha.android.magazinepocket', but the corresponding medium is missing; dropping\n",
      "2023-04-01 02:56:58.412  WARNING  snscrape.modules.twitter  Tweet 1572477141048266752 contains an app icon medium key '4_1641905340915539974' on app 'iphone_app'/'998542154', but the corresponding medium is missing; dropping\n",
      "2023-04-01 02:56:58.412  WARNING  snscrape.modules.twitter  Tweet 1572477141048266752 contains an app icon medium key '4_1641905340915539974' on app 'ipad_app'/'998542154', but the corresponding medium is missing; dropping\n",
      "2023-04-01 04:31:24.372  WARNING  snscrape.modules.twitter  Tweet 1527440258215710721 contains an app icon medium key '4_1642053072754184192' on app 'android_app'/'jp.co.excite.radiotalk', but the corresponding medium is missing; dropping\n",
      "2023-04-01 09:09:58.639  WARNING  snscrape.modules.twitter  Tweet 1369076640278450179 contains an app icon medium key '4_1641946491295272960' on app 'iphone_app'/'1001883210', but the corresponding medium is missing; dropping\n",
      "2023-04-01 09:09:58.639  WARNING  snscrape.modules.twitter  Tweet 1369076640278450179 contains an app icon medium key '4_1641946491295272960' on app 'ipad_app'/'1001883210', but the corresponding medium is missing; dropping\n",
      "2023-04-01 13:16:13.571  WARNING  snscrape.modules.twitter  Tweet 1258622317610979329 contains an app icon medium key '4_1641923763972239366' on app 'iphone_app'/'945241274', but the corresponding medium is missing; dropping\n",
      "2023-04-01 13:16:13.571  WARNING  snscrape.modules.twitter  Tweet 1258622317610979329 contains an app icon medium key '4_1641923763972239366' on app 'ipad_app'/'945241274', but the corresponding medium is missing; dropping\n"
     ]
    }
   ],
   "source": [
    "!snscrape --jsonl --since 2018-01-01 twitter-search \"在日 OR zainichi OR @a1s2d3f4g5h6j7k8l -filter:replies lang:ja\" > ../data/twitter_zainichi_since_2018.jsonl"
   ]
  }
 ],
 "metadata": {
  "kernelspec": {
   "display_name": "fljnlp",
   "language": "python",
   "name": "python3"
  },
  "language_info": {
   "codemirror_mode": {
    "name": "ipython",
    "version": 3
   },
   "file_extension": ".py",
   "mimetype": "text/x-python",
   "name": "python",
   "nbconvert_exporter": "python",
   "pygments_lexer": "ipython3",
   "version": "3.10.9"
  },
  "orig_nbformat": 4,
  "vscode": {
   "interpreter": {
    "hash": "f9db9da3f3f442f851959649fa18d49d29828688f852a05f818bc88156995629"
   }
  }
 },
 "nbformat": 4,
 "nbformat_minor": 2
}
